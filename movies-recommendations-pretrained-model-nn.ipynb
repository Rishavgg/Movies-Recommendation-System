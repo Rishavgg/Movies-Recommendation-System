{
 "cells": [
  {
   "cell_type": "code",
   "execution_count": 2,
   "id": "5e9eb3c3",
   "metadata": {
    "execution": {
     "iopub.execute_input": "2023-07-17T12:02:43.136785Z",
     "iopub.status.busy": "2023-07-17T12:02:43.136123Z",
     "iopub.status.idle": "2023-07-17T12:02:43.140565Z",
     "shell.execute_reply": "2023-07-17T12:02:43.139353Z"
    },
    "papermill": {
     "duration": 0.014029,
     "end_time": "2023-07-17T12:02:43.142476",
     "exception": false,
     "start_time": "2023-07-17T12:02:43.128447",
     "status": "completed"
    },
    "tags": []
   },
   "outputs": [],
   "source": [
    "# Import the required libraries\n",
    "import pandas as pd  # pandas is used for data manipulation and analysis\n",
    "import numpy as np   # numpy is used for numerical computing and array operations"
   ]
  },
  {
   "cell_type": "markdown",
   "id": "98c9064d",
   "metadata": {
    "papermill": {
     "duration": 0.005854,
     "end_time": "2023-07-17T12:02:43.154783",
     "exception": false,
     "start_time": "2023-07-17T12:02:43.148929",
     "status": "completed"
    },
    "tags": []
   },
   "source": [
    "# **Loading and analyzing the data**"
   ]
  },
  {
   "cell_type": "code",
   "execution_count": 3,
   "id": "2989e37a",
   "metadata": {
    "execution": {
     "iopub.execute_input": "2023-07-17T12:02:43.168664Z",
     "iopub.status.busy": "2023-07-17T12:02:43.168063Z",
     "iopub.status.idle": "2023-07-17T12:02:43.311774Z",
     "shell.execute_reply": "2023-07-17T12:02:43.311089Z"
    },
    "papermill": {
     "duration": 0.153086,
     "end_time": "2023-07-17T12:02:43.313912",
     "exception": false,
     "start_time": "2023-07-17T12:02:43.160826",
     "status": "completed"
    },
    "tags": []
   },
   "outputs": [],
   "source": [
    "# Read the CSV file 'mymoviedb.csv' into a DataFrame called 'df'\n",
    "# Set the lineterminator to '\\n' to handle any line termination characters properly\n",
    "df = pd.read_csv('mymoviedb.csv', lineterminator='\\n')"
   ]
  },
  {
   "cell_type": "code",
   "execution_count": 4,
   "id": "1785d0cd",
   "metadata": {
    "execution": {
     "iopub.execute_input": "2023-07-17T12:02:43.327889Z",
     "iopub.status.busy": "2023-07-17T12:02:43.327420Z",
     "iopub.status.idle": "2023-07-17T12:02:43.348228Z",
     "shell.execute_reply": "2023-07-17T12:02:43.347540Z"
    },
    "papermill": {
     "duration": 0.029835,
     "end_time": "2023-07-17T12:02:43.350179",
     "exception": false,
     "start_time": "2023-07-17T12:02:43.320344",
     "status": "completed"
    },
    "tags": []
   },
   "outputs": [
    {
     "data": {
      "text/html": [
       "<div>\n",
       "<style scoped>\n",
       "    .dataframe tbody tr th:only-of-type {\n",
       "        vertical-align: middle;\n",
       "    }\n",
       "\n",
       "    .dataframe tbody tr th {\n",
       "        vertical-align: top;\n",
       "    }\n",
       "\n",
       "    .dataframe thead th {\n",
       "        text-align: right;\n",
       "    }\n",
       "</style>\n",
       "<table border=\"1\" class=\"dataframe\">\n",
       "  <thead>\n",
       "    <tr style=\"text-align: right;\">\n",
       "      <th></th>\n",
       "      <th>Release_Date</th>\n",
       "      <th>Title</th>\n",
       "      <th>Overview</th>\n",
       "      <th>Popularity</th>\n",
       "      <th>Vote_Count</th>\n",
       "      <th>Vote_Average</th>\n",
       "      <th>Original_Language</th>\n",
       "      <th>Genre</th>\n",
       "      <th>Poster_Url</th>\n",
       "    </tr>\n",
       "  </thead>\n",
       "  <tbody>\n",
       "    <tr>\n",
       "      <th>0</th>\n",
       "      <td>2021-12-15</td>\n",
       "      <td>Spider-Man: No Way Home</td>\n",
       "      <td>Peter Parker is unmasked and no longer able to...</td>\n",
       "      <td>5083.954</td>\n",
       "      <td>8940</td>\n",
       "      <td>8.3</td>\n",
       "      <td>en</td>\n",
       "      <td>Action, Adventure, Science Fiction</td>\n",
       "      <td>https://image.tmdb.org/t/p/original/1g0dhYtq4i...</td>\n",
       "    </tr>\n",
       "    <tr>\n",
       "      <th>1</th>\n",
       "      <td>2022-03-01</td>\n",
       "      <td>The Batman</td>\n",
       "      <td>In his second year of fighting crime, Batman u...</td>\n",
       "      <td>3827.658</td>\n",
       "      <td>1151</td>\n",
       "      <td>8.1</td>\n",
       "      <td>en</td>\n",
       "      <td>Crime, Mystery, Thriller</td>\n",
       "      <td>https://image.tmdb.org/t/p/original/74xTEgt7R3...</td>\n",
       "    </tr>\n",
       "    <tr>\n",
       "      <th>2</th>\n",
       "      <td>2022-02-25</td>\n",
       "      <td>No Exit</td>\n",
       "      <td>Stranded at a rest stop in the mountains durin...</td>\n",
       "      <td>2618.087</td>\n",
       "      <td>122</td>\n",
       "      <td>6.3</td>\n",
       "      <td>en</td>\n",
       "      <td>Thriller</td>\n",
       "      <td>https://image.tmdb.org/t/p/original/vDHsLnOWKl...</td>\n",
       "    </tr>\n",
       "    <tr>\n",
       "      <th>3</th>\n",
       "      <td>2021-11-24</td>\n",
       "      <td>Encanto</td>\n",
       "      <td>The tale of an extraordinary family, the Madri...</td>\n",
       "      <td>2402.201</td>\n",
       "      <td>5076</td>\n",
       "      <td>7.7</td>\n",
       "      <td>en</td>\n",
       "      <td>Animation, Comedy, Family, Fantasy</td>\n",
       "      <td>https://image.tmdb.org/t/p/original/4j0PNHkMr5...</td>\n",
       "    </tr>\n",
       "    <tr>\n",
       "      <th>4</th>\n",
       "      <td>2021-12-22</td>\n",
       "      <td>The King's Man</td>\n",
       "      <td>As a collection of history's worst tyrants and...</td>\n",
       "      <td>1895.511</td>\n",
       "      <td>1793</td>\n",
       "      <td>7.0</td>\n",
       "      <td>en</td>\n",
       "      <td>Action, Adventure, Thriller, War</td>\n",
       "      <td>https://image.tmdb.org/t/p/original/aq4Pwv5Xeu...</td>\n",
       "    </tr>\n",
       "  </tbody>\n",
       "</table>\n",
       "</div>"
      ],
      "text/plain": [
       "  Release_Date                    Title  \\\n",
       "0   2021-12-15  Spider-Man: No Way Home   \n",
       "1   2022-03-01               The Batman   \n",
       "2   2022-02-25                  No Exit   \n",
       "3   2021-11-24                  Encanto   \n",
       "4   2021-12-22           The King's Man   \n",
       "\n",
       "                                            Overview  Popularity  Vote_Count  \\\n",
       "0  Peter Parker is unmasked and no longer able to...    5083.954        8940   \n",
       "1  In his second year of fighting crime, Batman u...    3827.658        1151   \n",
       "2  Stranded at a rest stop in the mountains durin...    2618.087         122   \n",
       "3  The tale of an extraordinary family, the Madri...    2402.201        5076   \n",
       "4  As a collection of history's worst tyrants and...    1895.511        1793   \n",
       "\n",
       "   Vote_Average Original_Language                               Genre  \\\n",
       "0           8.3                en  Action, Adventure, Science Fiction   \n",
       "1           8.1                en            Crime, Mystery, Thriller   \n",
       "2           6.3                en                            Thriller   \n",
       "3           7.7                en  Animation, Comedy, Family, Fantasy   \n",
       "4           7.0                en    Action, Adventure, Thriller, War   \n",
       "\n",
       "                                          Poster_Url  \n",
       "0  https://image.tmdb.org/t/p/original/1g0dhYtq4i...  \n",
       "1  https://image.tmdb.org/t/p/original/74xTEgt7R3...  \n",
       "2  https://image.tmdb.org/t/p/original/vDHsLnOWKl...  \n",
       "3  https://image.tmdb.org/t/p/original/4j0PNHkMr5...  \n",
       "4  https://image.tmdb.org/t/p/original/aq4Pwv5Xeu...  "
      ]
     },
     "execution_count": 4,
     "metadata": {},
     "output_type": "execute_result"
    }
   ],
   "source": [
    "df.head()"
   ]
  },
  {
   "cell_type": "code",
   "execution_count": 5,
   "id": "a65883d4",
   "metadata": {
    "execution": {
     "iopub.execute_input": "2023-07-17T12:02:43.366821Z",
     "iopub.status.busy": "2023-07-17T12:02:43.366315Z",
     "iopub.status.idle": "2023-07-17T12:02:43.371071Z",
     "shell.execute_reply": "2023-07-17T12:02:43.370448Z"
    },
    "papermill": {
     "duration": 0.014318,
     "end_time": "2023-07-17T12:02:43.372672",
     "exception": false,
     "start_time": "2023-07-17T12:02:43.358354",
     "status": "completed"
    },
    "tags": []
   },
   "outputs": [
    {
     "data": {
      "text/plain": [
       "'https://image.tmdb.org/t/p/original/1g0dhYtq4irTY1GPXvft6k4YLjm.jpg'"
      ]
     },
     "execution_count": 5,
     "metadata": {},
     "output_type": "execute_result"
    }
   ],
   "source": [
    "df['Poster_Url'][0]"
   ]
  },
  {
   "cell_type": "markdown",
   "id": "8656ca95",
   "metadata": {
    "papermill": {
     "duration": 0.00609,
     "end_time": "2023-07-17T12:02:43.385494",
     "exception": false,
     "start_time": "2023-07-17T12:02:43.379404",
     "status": "completed"
    },
    "tags": []
   },
   "source": [
    "# **We will use a pre-trained model**"
   ]
  },
  {
   "cell_type": "code",
   "execution_count": 6,
   "id": "d05fc148",
   "metadata": {
    "execution": {
     "iopub.execute_input": "2023-07-17T12:02:43.400164Z",
     "iopub.status.busy": "2023-07-17T12:02:43.399786Z",
     "iopub.status.idle": "2023-07-17T12:02:53.008898Z",
     "shell.execute_reply": "2023-07-17T12:02:53.007788Z"
    },
    "papermill": {
     "duration": 9.619391,
     "end_time": "2023-07-17T12:02:53.011262",
     "exception": false,
     "start_time": "2023-07-17T12:02:43.391871",
     "status": "completed"
    },
    "tags": []
   },
   "outputs": [
    {
     "name": "stderr",
     "output_type": "stream",
     "text": [
      "/opt/conda/lib/python3.10/site-packages/scipy/__init__.py:146: UserWarning: A NumPy version >=1.16.5 and <1.23.0 is required for this version of SciPy (detected version 1.23.5\n",
      "  warnings.warn(f\"A NumPy version >={np_minversion} and <{np_maxversion}\"\n",
      "/opt/conda/lib/python3.10/site-packages/tensorflow_io/python/ops/__init__.py:98: UserWarning: unable to load libtensorflow_io_plugins.so: unable to open file: libtensorflow_io_plugins.so, from paths: ['/opt/conda/lib/python3.10/site-packages/tensorflow_io/python/ops/libtensorflow_io_plugins.so']\n",
      "caused by: ['/opt/conda/lib/python3.10/site-packages/tensorflow_io/python/ops/libtensorflow_io_plugins.so: undefined symbol: _ZN3tsl6StatusC1EN10tensorflow5error4CodeESt17basic_string_viewIcSt11char_traitsIcEENS_14SourceLocationE']\n",
      "  warnings.warn(f\"unable to load libtensorflow_io_plugins.so: {e}\")\n",
      "/opt/conda/lib/python3.10/site-packages/tensorflow_io/python/ops/__init__.py:104: UserWarning: file system plugins are not loaded: unable to open file: libtensorflow_io.so, from paths: ['/opt/conda/lib/python3.10/site-packages/tensorflow_io/python/ops/libtensorflow_io.so']\n",
      "caused by: ['/opt/conda/lib/python3.10/site-packages/tensorflow_io/python/ops/libtensorflow_io.so: undefined symbol: _ZTVN10tensorflow13GcsFileSystemE']\n",
      "  warnings.warn(f\"file system plugins are not loaded: {e}\")\n"
     ]
    }
   ],
   "source": [
    "# Import TensorFlow library\n",
    "import tensorflow as tf\n",
    "\n",
    "# Import TensorFlow Hub library for using pre-trained models\n",
    "import tensorflow_hub as hub\n",
    "\n",
    "# Import Matplotlib library for plotting\n",
    "import matplotlib.pyplot as plt\n",
    "\n",
    "# Import necessary packages\n",
    "import os  \n",
    "import re  "
   ]
  },
  {
   "cell_type": "code",
   "execution_count": 7,
   "id": "8f410b60",
   "metadata": {
    "execution": {
     "iopub.execute_input": "2023-07-17T12:02:53.028069Z",
     "iopub.status.busy": "2023-07-17T12:02:53.027510Z",
     "iopub.status.idle": "2023-07-17T12:02:54.275730Z",
     "shell.execute_reply": "2023-07-17T12:02:54.274625Z"
    },
    "papermill": {
     "duration": 1.259091,
     "end_time": "2023-07-17T12:02:54.278144",
     "exception": false,
     "start_time": "2023-07-17T12:02:53.019053",
     "status": "completed"
    },
    "tags": []
   },
   "outputs": [],
   "source": [
    "# Import scikit-learn modules\n",
    "from sklearn.metrics.pairwise import cosine_similarity  # For computing cosine similarity between vectors\n",
    "from sklearn.neighbors import NearestNeighbors  # For implementing k-nearest neighbors algorithm\n",
    "from sklearn.decomposition import PCA  # For performing Principal Component Analysis (PCA)\n"
   ]
  },
  {
   "cell_type": "markdown",
   "id": "3a9de384",
   "metadata": {
    "papermill": {
     "duration": 0.006249,
     "end_time": "2023-07-17T12:02:54.291200",
     "exception": false,
     "start_time": "2023-07-17T12:02:54.284951",
     "status": "completed"
    },
    "tags": []
   },
   "source": [
    "# **Loading Pretrained Model**"
   ]
  },
  {
   "cell_type": "code",
   "execution_count": 8,
   "id": "bab2768b",
   "metadata": {
    "execution": {
     "iopub.execute_input": "2023-07-17T12:02:54.305551Z",
     "iopub.status.busy": "2023-07-17T12:02:54.305180Z",
     "iopub.status.idle": "2023-07-17T12:03:21.957846Z",
     "shell.execute_reply": "2023-07-17T12:03:21.957074Z"
    },
    "papermill": {
     "duration": 27.662236,
     "end_time": "2023-07-17T12:03:21.959774",
     "exception": false,
     "start_time": "2023-07-17T12:02:54.297538",
     "status": "completed"
    },
    "tags": []
   },
   "outputs": [
    {
     "name": "stdout",
     "output_type": "stream",
     "text": [
      "model loaded\n"
     ]
    }
   ],
   "source": [
    "# Load the pre-trained model from TensorFlow Hub\n",
    "model = hub.load(\"https://tfhub.dev/google/universal-sentence-encoder/4\")\n",
    "print('model loaded')"
   ]
  },
  {
   "cell_type": "code",
   "execution_count": 9,
   "id": "993222b0",
   "metadata": {
    "execution": {
     "iopub.execute_input": "2023-07-17T12:03:21.975556Z",
     "iopub.status.busy": "2023-07-17T12:03:21.975153Z",
     "iopub.status.idle": "2023-07-17T12:03:21.980564Z",
     "shell.execute_reply": "2023-07-17T12:03:21.979473Z"
    },
    "papermill": {
     "duration": 0.015323,
     "end_time": "2023-07-17T12:03:21.982333",
     "exception": false,
     "start_time": "2023-07-17T12:03:21.967010",
     "status": "completed"
    },
    "tags": []
   },
   "outputs": [],
   "source": [
    "# Define a function named 'embed' that takes a list of 'texts' as input\n",
    "def embed(texts):\n",
    "    # Use the pre-trained model to obtain embeddings for the input 'texts'\n",
    "    # The 'model' variable is assumed to be loaded with a pre-trained model from TensorFlow Hub\n",
    "    return model(texts)"
   ]
  },
  {
   "cell_type": "code",
   "execution_count": 10,
   "id": "3417a0fd",
   "metadata": {
    "execution": {
     "iopub.execute_input": "2023-07-17T12:03:21.998389Z",
     "iopub.status.busy": "2023-07-17T12:03:21.998028Z",
     "iopub.status.idle": "2023-07-17T12:03:22.485612Z",
     "shell.execute_reply": "2023-07-17T12:03:22.484649Z"
    },
    "papermill": {
     "duration": 0.497939,
     "end_time": "2023-07-17T12:03:22.487596",
     "exception": false,
     "start_time": "2023-07-17T12:03:21.989657",
     "status": "completed"
    },
    "tags": []
   },
   "outputs": [
    {
     "data": {
      "text/plain": [
       "<tf.Tensor: shape=(1, 512), dtype=float32, numpy=\n",
       "array([[-2.92219035e-02, -3.14462297e-02,  2.34991722e-02,\n",
       "         7.36492546e-03,  7.76238069e-02,  3.11416462e-02,\n",
       "        -8.00172798e-03, -2.30119992e-02,  3.45778018e-02,\n",
       "         1.31114516e-02,  2.52872892e-02, -1.87290050e-02,\n",
       "        -7.89124891e-02, -6.50351644e-02, -1.12553835e-02,\n",
       "        -6.12646155e-03, -9.28147044e-03,  1.98763479e-02,\n",
       "        -6.66044839e-03, -1.14539694e-02,  5.49483113e-03,\n",
       "        -1.02121226e-01,  6.78207958e-04,  3.53169627e-02,\n",
       "         3.58779132e-02,  2.06298716e-02, -1.06511293e-02,\n",
       "        -6.51499350e-03, -5.93384840e-02,  1.02144502e-01,\n",
       "        -1.98473632e-02, -3.39227333e-03, -1.39104929e-02,\n",
       "        -5.76402480e-03,  1.05825560e-02,  6.26210570e-02,\n",
       "         4.28830413e-03, -5.28215319e-02, -1.39334723e-02,\n",
       "        -2.68419255e-02,  4.20537926e-02,  3.74216512e-02,\n",
       "        -1.01836227e-01,  4.89530936e-02,  1.31991040e-02,\n",
       "         1.06181588e-03,  7.21511841e-02,  7.59368315e-02,\n",
       "         2.08729655e-02,  5.37780784e-02,  1.05642183e-02,\n",
       "        -2.44626310e-02, -3.85365561e-02, -1.86129492e-02,\n",
       "        -1.93109307e-02,  5.86637519e-02,  1.40203601e-02,\n",
       "        -5.69177512e-03, -3.72364448e-04,  4.87831235e-02,\n",
       "        -2.59530321e-02, -3.65603156e-02,  3.57724950e-02,\n",
       "         3.55673507e-02,  1.60372219e-05,  6.83857575e-02,\n",
       "         1.10363681e-02,  3.12573239e-02,  9.17959288e-02,\n",
       "        -7.35856891e-02,  7.45208263e-02,  2.28204951e-02,\n",
       "         1.51504334e-02, -2.36666966e-02, -3.56134363e-02,\n",
       "        -4.47937623e-02,  3.28519121e-02, -2.42607519e-02,\n",
       "        -2.92089507e-02,  2.61093751e-02, -4.29658294e-02,\n",
       "         3.48068513e-02, -4.03564714e-04,  6.17363676e-03,\n",
       "        -4.47030067e-02, -3.51230167e-02,  3.20509337e-02,\n",
       "        -2.48262510e-02, -8.25858265e-02, -5.47576696e-02,\n",
       "        -4.99984026e-02,  2.07910296e-02, -8.18460807e-02,\n",
       "         8.64296183e-02,  1.02096252e-01, -5.55384047e-02,\n",
       "         3.99383940e-02, -4.37299795e-02,  9.21260193e-02,\n",
       "         9.42393988e-02, -1.69175807e-02, -4.19001980e-03,\n",
       "         7.90387467e-02, -6.62163869e-02, -2.05419101e-02,\n",
       "         5.73993614e-03, -3.90446885e-03,  7.86094926e-03,\n",
       "        -6.29478544e-02,  7.86099508e-02,  2.40896363e-02,\n",
       "         4.12224382e-02,  4.06856723e-02,  2.64787395e-03,\n",
       "        -3.87931764e-02,  3.75357755e-02,  3.89783867e-02,\n",
       "         6.56071529e-02,  1.27158873e-03,  5.26988171e-02,\n",
       "         6.41373126e-03,  6.60475949e-03, -7.95961637e-03,\n",
       "        -6.18588179e-03, -2.50410521e-03,  5.18460944e-02,\n",
       "        -1.15303416e-02, -1.02148451e-01,  7.80382846e-03,\n",
       "         1.01100117e-01,  1.69858022e-03, -2.38026883e-02,\n",
       "         1.78278275e-02, -6.01337254e-02,  5.41100763e-02,\n",
       "        -3.05796769e-02,  6.16584197e-02, -4.94442554e-03,\n",
       "        -3.58242504e-02,  3.95921767e-02,  2.53532883e-02,\n",
       "        -2.83439308e-02,  8.12204853e-02,  3.77176180e-02,\n",
       "        -2.59959232e-02,  1.94607973e-02,  8.06408189e-03,\n",
       "        -6.04163632e-02, -4.42808345e-02,  1.11863706e-02,\n",
       "         5.69006912e-02,  1.48786074e-02, -8.80837366e-02,\n",
       "        -7.05491751e-02,  2.53569763e-02,  5.50810713e-03,\n",
       "         5.28863221e-02, -6.62641376e-02,  5.00635058e-02,\n",
       "         3.15068290e-02, -5.25482558e-02,  2.02516578e-02,\n",
       "         5.64284138e-02, -5.15246801e-02,  2.24536471e-02,\n",
       "         1.45697314e-02, -6.33683130e-02, -2.10526381e-02,\n",
       "         2.30062027e-02, -1.49222440e-03, -3.16180522e-03,\n",
       "         3.31450030e-02,  1.19991396e-02, -2.00250037e-02,\n",
       "        -3.82273309e-02,  6.02449514e-02,  5.98350577e-02,\n",
       "         4.64133732e-02, -7.46308267e-03, -5.54567873e-02,\n",
       "        -1.96683351e-02,  7.15180933e-02,  4.20569666e-02,\n",
       "         3.57482512e-03,  6.54963255e-02, -5.95898256e-02,\n",
       "         3.70567180e-02, -1.12714125e-02,  9.74823833e-02,\n",
       "         2.64813136e-02,  3.47830653e-02, -8.40887986e-03,\n",
       "         8.22479576e-02, -6.31445646e-02, -7.29504623e-04,\n",
       "         5.56356274e-03,  7.57017173e-04,  4.51910235e-02,\n",
       "         1.43994968e-02,  8.34667832e-02, -7.51507329e-03,\n",
       "        -3.45281139e-02, -2.61106584e-02, -3.70634347e-02,\n",
       "         4.94708903e-02,  6.24644523e-03,  2.88861431e-03,\n",
       "        -5.19789243e-03, -4.47155070e-03, -2.99134869e-02,\n",
       "        -6.94009438e-02, -1.91651024e-02,  2.65993252e-02,\n",
       "        -2.89388485e-02,  2.63496279e-03, -3.42697576e-02,\n",
       "         3.43356319e-02, -3.95736359e-02,  3.95393232e-03,\n",
       "        -3.49402167e-02, -1.95433255e-02, -6.40750602e-02,\n",
       "         6.67832093e-04, -1.83405238e-03, -9.65561792e-02,\n",
       "         6.96961582e-02, -7.29233101e-02,  6.02614973e-03,\n",
       "         1.39465882e-02, -2.59549208e-02,  1.57279223e-02,\n",
       "         8.11097398e-02, -1.44343022e-02,  1.01543009e-01,\n",
       "         8.45452957e-03, -2.20657811e-02,  8.80558044e-02,\n",
       "        -3.29821035e-02, -3.38709354e-02, -1.33018680e-02,\n",
       "        -5.89060709e-02,  4.21159267e-02, -1.26927509e-03,\n",
       "         4.01323102e-02, -3.69963311e-02, -2.97597479e-02,\n",
       "        -2.56967507e-02, -3.47370543e-02, -8.14882219e-02,\n",
       "        -3.57532129e-02, -2.35321932e-02,  4.28739712e-02,\n",
       "        -3.70179415e-02,  1.32456468e-02, -3.21282111e-02,\n",
       "         2.19504852e-02,  3.37267481e-02, -4.89417650e-02,\n",
       "         7.64714703e-02, -1.54491011e-02, -3.74300815e-02,\n",
       "        -1.56788696e-02,  6.93317503e-02, -1.08174421e-02,\n",
       "         3.34907658e-02,  1.85018703e-02,  1.98137965e-02,\n",
       "         3.48102711e-02,  2.52893232e-02,  7.93881249e-04,\n",
       "        -2.97138821e-02, -1.91521216e-02,  1.27010979e-02,\n",
       "         6.82602748e-02,  6.60208985e-02,  5.28632011e-03,\n",
       "         2.84955781e-02, -3.55076641e-02,  1.01063192e-01,\n",
       "         5.04143629e-03,  2.70341225e-02,  7.03168958e-02,\n",
       "         7.64808059e-03,  5.29638771e-03, -2.28354353e-02,\n",
       "        -1.02148801e-01,  4.52755243e-02, -3.57494317e-02,\n",
       "         5.28246723e-02,  2.62179575e-03,  1.33303516e-02,\n",
       "         9.60070714e-02, -3.93564701e-02, -1.48655446e-02,\n",
       "         8.28343332e-02,  5.42253368e-02,  6.10088557e-02,\n",
       "         6.21644547e-03,  3.91891487e-02,  5.72941341e-02,\n",
       "         3.50786909e-03, -2.98756789e-02,  2.25912817e-02,\n",
       "         2.74870507e-02,  5.12227044e-02, -7.85793085e-03,\n",
       "         3.90446894e-02, -3.95266749e-02, -1.93079300e-02,\n",
       "         3.94130461e-02, -3.51913902e-03,  4.17727157e-02,\n",
       "        -5.11275697e-03,  8.88905302e-03,  6.15320215e-03,\n",
       "        -7.48733105e-03,  7.07052927e-03, -6.84169605e-02,\n",
       "        -5.15869595e-02,  1.08957198e-02, -5.05027696e-02,\n",
       "        -1.79002415e-02,  3.85782942e-02,  2.75646616e-03,\n",
       "         7.81028159e-03,  6.23109601e-02, -9.38430522e-03,\n",
       "        -6.17045835e-02, -4.84208651e-02,  3.33118998e-02,\n",
       "         3.92112322e-02,  4.68215868e-02, -5.37548810e-02,\n",
       "        -6.79062307e-02, -9.42900032e-02, -2.27128752e-02,\n",
       "        -5.12001216e-02, -4.90027256e-02,  3.10425516e-02,\n",
       "        -6.13710564e-03,  9.90417749e-02,  8.64979159e-03,\n",
       "        -3.69072594e-02,  2.48963833e-02,  3.18044312e-02,\n",
       "        -4.51033033e-04, -3.82343344e-02, -1.01604760e-01,\n",
       "        -5.99824544e-03, -7.27299694e-03,  5.18681332e-02,\n",
       "        -5.67720048e-02,  1.75585672e-02, -4.59450595e-02,\n",
       "        -5.86649887e-02, -3.59774977e-02, -9.87073854e-02,\n",
       "         1.75289810e-02, -2.64890306e-02,  5.47492616e-02,\n",
       "        -6.85565621e-02, -3.78212743e-02,  1.00566722e-01,\n",
       "         9.41448845e-03,  4.01886785e-03, -2.56501548e-02,\n",
       "        -1.48757535e-03, -3.59397121e-02, -2.16278136e-02,\n",
       "         3.42941806e-02,  2.64933240e-02,  2.70457864e-02,\n",
       "        -1.47436978e-02,  3.52925062e-02, -6.38379948e-03,\n",
       "         5.61276264e-03,  4.74228002e-02,  6.56319261e-02,\n",
       "         8.22766870e-02, -1.72887538e-02, -5.23785800e-02,\n",
       "        -1.73608921e-02,  5.69849201e-02,  8.05339292e-02,\n",
       "        -8.94494578e-02, -2.59542707e-02, -4.92610969e-02,\n",
       "        -2.68860403e-02, -2.24140007e-02,  1.65584721e-02,\n",
       "         5.94275333e-02,  1.56112909e-02,  3.49885933e-02,\n",
       "        -3.56860682e-02,  3.74560244e-02, -3.70267294e-02,\n",
       "        -5.44723719e-02, -3.47990058e-02, -5.15849069e-02,\n",
       "         5.83277307e-02, -3.85659225e-02, -4.40586954e-02,\n",
       "         1.05652818e-02, -4.32927869e-02,  1.02148771e-01,\n",
       "        -2.79410183e-03,  9.34495553e-02,  1.41255185e-02,\n",
       "         5.89083321e-02,  4.13225926e-02,  7.60353357e-02,\n",
       "        -7.97491893e-03, -2.89449636e-02,  7.21101929e-03,\n",
       "         1.00110680e-01,  2.82925982e-02, -1.73004549e-02,\n",
       "         4.11581155e-03, -8.43971781e-03,  2.79463883e-02,\n",
       "         1.99759845e-02, -2.08091759e-03, -6.73145205e-02,\n",
       "        -5.98580986e-02,  4.32489403e-02,  3.63790542e-02,\n",
       "         4.79047410e-02,  1.80559829e-02, -4.35036123e-02,\n",
       "         1.01986296e-01,  1.09767017e-03, -4.25767452e-02,\n",
       "         3.72751877e-02, -3.64663824e-02,  4.20448445e-02,\n",
       "        -2.92318556e-02, -7.57057890e-02,  1.38299190e-03,\n",
       "        -2.55599432e-02,  5.25266044e-02,  4.36537042e-02,\n",
       "        -8.28667358e-02,  2.41604522e-02, -3.05234436e-02,\n",
       "         5.48148416e-02, -5.55410190e-03, -1.05728796e-02,\n",
       "        -4.58698496e-02, -3.47501747e-02, -5.20636849e-02,\n",
       "        -1.30643707e-03, -6.22808449e-02,  2.66037099e-02,\n",
       "        -4.42174040e-02, -2.86393557e-02, -1.50469039e-03,\n",
       "        -9.17089824e-03, -5.91975413e-02,  1.99497980e-03,\n",
       "         2.72555090e-02, -4.24119122e-02,  1.22415489e-02,\n",
       "        -3.23696584e-02, -5.25436625e-02,  2.43388247e-02,\n",
       "         4.13598381e-02,  2.74920790e-03, -1.95397791e-02,\n",
       "         1.83370747e-02, -3.63672376e-02, -1.51270702e-02,\n",
       "         4.14181426e-02,  6.49410039e-02,  2.93900967e-02,\n",
       "         6.69263769e-03,  2.74506249e-02, -3.44613083e-02,\n",
       "        -3.16275321e-02,  8.66687968e-02,  3.98042537e-02,\n",
       "         1.04982331e-02, -2.67581847e-02,  3.44413556e-02,\n",
       "        -2.27280241e-02,  3.95468296e-03, -3.99094746e-02,\n",
       "         2.36091334e-02,  1.02131404e-01, -3.46382707e-02,\n",
       "        -1.95845254e-02, -2.45396588e-02,  2.19314918e-02,\n",
       "         8.11754167e-02,  9.73183941e-03,  3.42643075e-03,\n",
       "        -2.24330667e-02, -4.22283402e-03, -5.30871525e-02,\n",
       "         9.32385866e-03,  4.30121608e-02,  1.63240302e-02,\n",
       "        -9.96293053e-02,  3.70402895e-02, -2.77143363e-02,\n",
       "        -2.19226703e-02,  2.69094445e-02,  1.81165040e-02,\n",
       "        -3.00855208e-02, -1.50959892e-03, -5.55273890e-02,\n",
       "         1.02147266e-01, -2.46393923e-02]], dtype=float32)>"
      ]
     },
     "execution_count": 10,
     "metadata": {},
     "output_type": "execute_result"
    }
   ],
   "source": [
    "embed(['Movie is good'])\n",
    "\n",
    "# 'embeddings' will contain the embeddings of the input text ['Movie is good']"
   ]
  },
  {
   "cell_type": "code",
   "execution_count": 11,
   "id": "b702b5c0",
   "metadata": {
    "execution": {
     "iopub.execute_input": "2023-07-17T12:03:22.503003Z",
     "iopub.status.busy": "2023-07-17T12:03:22.502481Z",
     "iopub.status.idle": "2023-07-17T12:03:22.516710Z",
     "shell.execute_reply": "2023-07-17T12:03:22.516128Z"
    },
    "papermill": {
     "duration": 0.023596,
     "end_time": "2023-07-17T12:03:22.518392",
     "exception": false,
     "start_time": "2023-07-17T12:03:22.494796",
     "status": "completed"
    },
    "tags": []
   },
   "outputs": [
    {
     "data": {
      "text/html": [
       "<div>\n",
       "<style scoped>\n",
       "    .dataframe tbody tr th:only-of-type {\n",
       "        vertical-align: middle;\n",
       "    }\n",
       "\n",
       "    .dataframe tbody tr th {\n",
       "        vertical-align: top;\n",
       "    }\n",
       "\n",
       "    .dataframe thead th {\n",
       "        text-align: right;\n",
       "    }\n",
       "</style>\n",
       "<table border=\"1\" class=\"dataframe\">\n",
       "  <thead>\n",
       "    <tr style=\"text-align: right;\">\n",
       "      <th></th>\n",
       "      <th>Title</th>\n",
       "      <th>Overview</th>\n",
       "      <th>Poster_Url</th>\n",
       "    </tr>\n",
       "  </thead>\n",
       "  <tbody>\n",
       "    <tr>\n",
       "      <th>0</th>\n",
       "      <td>Spider-Man: No Way Home</td>\n",
       "      <td>Peter Parker is unmasked and no longer able to...</td>\n",
       "      <td>https://image.tmdb.org/t/p/original/1g0dhYtq4i...</td>\n",
       "    </tr>\n",
       "    <tr>\n",
       "      <th>1</th>\n",
       "      <td>The Batman</td>\n",
       "      <td>In his second year of fighting crime, Batman u...</td>\n",
       "      <td>https://image.tmdb.org/t/p/original/74xTEgt7R3...</td>\n",
       "    </tr>\n",
       "    <tr>\n",
       "      <th>2</th>\n",
       "      <td>No Exit</td>\n",
       "      <td>Stranded at a rest stop in the mountains durin...</td>\n",
       "      <td>https://image.tmdb.org/t/p/original/vDHsLnOWKl...</td>\n",
       "    </tr>\n",
       "    <tr>\n",
       "      <th>3</th>\n",
       "      <td>Encanto</td>\n",
       "      <td>The tale of an extraordinary family, the Madri...</td>\n",
       "      <td>https://image.tmdb.org/t/p/original/4j0PNHkMr5...</td>\n",
       "    </tr>\n",
       "    <tr>\n",
       "      <th>4</th>\n",
       "      <td>The King's Man</td>\n",
       "      <td>As a collection of history's worst tyrants and...</td>\n",
       "      <td>https://image.tmdb.org/t/p/original/aq4Pwv5Xeu...</td>\n",
       "    </tr>\n",
       "  </tbody>\n",
       "</table>\n",
       "</div>"
      ],
      "text/plain": [
       "                     Title                                           Overview  \\\n",
       "0  Spider-Man: No Way Home  Peter Parker is unmasked and no longer able to...   \n",
       "1               The Batman  In his second year of fighting crime, Batman u...   \n",
       "2                  No Exit  Stranded at a rest stop in the mountains durin...   \n",
       "3                  Encanto  The tale of an extraordinary family, the Madri...   \n",
       "4           The King's Man  As a collection of history's worst tyrants and...   \n",
       "\n",
       "                                          Poster_Url  \n",
       "0  https://image.tmdb.org/t/p/original/1g0dhYtq4i...  \n",
       "1  https://image.tmdb.org/t/p/original/74xTEgt7R3...  \n",
       "2  https://image.tmdb.org/t/p/original/vDHsLnOWKl...  \n",
       "3  https://image.tmdb.org/t/p/original/4j0PNHkMr5...  \n",
       "4  https://image.tmdb.org/t/p/original/aq4Pwv5Xeu...  "
      ]
     },
     "execution_count": 11,
     "metadata": {},
     "output_type": "execute_result"
    }
   ],
   "source": [
    "# Select only the columns \"Title\", \"Overview\", and \"Poster_Url\" from the DataFrame 'df'\n",
    "# The DataFrame 'df' is assumed to have columns named \"Title\", \"Overview\", and \"Poster_Url\"\n",
    "df = df[[\"Title\", \"Overview\", \"Poster_Url\"]]\n",
    "\n",
    "# Display the first few rows of the modified DataFrame 'df'\n",
    "df.head()"
   ]
  },
  {
   "cell_type": "markdown",
   "id": "33ce6215",
   "metadata": {
    "papermill": {
     "duration": 0.006722,
     "end_time": "2023-07-17T12:03:22.532426",
     "exception": false,
     "start_time": "2023-07-17T12:03:22.525704",
     "status": "completed"
    },
    "tags": []
   },
   "source": [
    "# **Data Cleaning**"
   ]
  },
  {
   "cell_type": "markdown",
   "id": "15c24f1a",
   "metadata": {
    "papermill": {
     "duration": 0.006642,
     "end_time": "2023-07-17T12:03:22.545932",
     "exception": false,
     "start_time": "2023-07-17T12:03:22.539290",
     "status": "completed"
    },
    "tags": []
   },
   "source": []
  },
  {
   "cell_type": "code",
   "execution_count": 12,
   "id": "17b33c60",
   "metadata": {
    "execution": {
     "iopub.execute_input": "2023-07-17T12:03:22.561605Z",
     "iopub.status.busy": "2023-07-17T12:03:22.560577Z",
     "iopub.status.idle": "2023-07-17T12:03:22.573747Z",
     "shell.execute_reply": "2023-07-17T12:03:22.572988Z"
    },
    "papermill": {
     "duration": 0.023327,
     "end_time": "2023-07-17T12:03:22.576016",
     "exception": false,
     "start_time": "2023-07-17T12:03:22.552689",
     "status": "completed"
    },
    "tags": []
   },
   "outputs": [
    {
     "data": {
      "text/plain": [
       "Title         0\n",
       "Overview      0\n",
       "Poster_Url    0\n",
       "dtype: int64"
      ]
     },
     "execution_count": 12,
     "metadata": {},
     "output_type": "execute_result"
    }
   ],
   "source": [
    "# Check for missing values in each column of the DataFrame 'df'\n",
    "df.isnull().sum()"
   ]
  },
  {
   "cell_type": "code",
   "execution_count": 13,
   "id": "191a1c4d",
   "metadata": {
    "execution": {
     "iopub.execute_input": "2023-07-17T12:03:22.594953Z",
     "iopub.status.busy": "2023-07-17T12:03:22.594231Z",
     "iopub.status.idle": "2023-07-17T12:03:22.684114Z",
     "shell.execute_reply": "2023-07-17T12:03:22.683451Z"
    },
    "papermill": {
     "duration": 0.1021,
     "end_time": "2023-07-17T12:03:22.685992",
     "exception": false,
     "start_time": "2023-07-17T12:03:22.583892",
     "status": "completed"
    },
    "tags": []
   },
   "outputs": [
    {
     "name": "stdout",
     "output_type": "stream",
     "text": [
      "False\n"
     ]
    }
   ],
   "source": [
    "# Check for duplicate rows in the DataFrame 'df'\n",
    "df.duplicated().sum()\n",
    "has_duplicates = df.duplicated().any()\n",
    "print(has_duplicates)"
   ]
  },
  {
   "cell_type": "code",
   "execution_count": 14,
   "id": "676702ae",
   "metadata": {
    "execution": {
     "iopub.execute_input": "2023-07-17T12:03:22.703028Z",
     "iopub.status.busy": "2023-07-17T12:03:22.702332Z",
     "iopub.status.idle": "2023-07-17T12:03:22.705707Z",
     "shell.execute_reply": "2023-07-17T12:03:22.705128Z"
    },
    "papermill": {
     "duration": 0.013835,
     "end_time": "2023-07-17T12:03:22.707356",
     "exception": false,
     "start_time": "2023-07-17T12:03:22.693521",
     "status": "completed"
    },
    "tags": []
   },
   "outputs": [],
   "source": [
    "movies = df"
   ]
  },
  {
   "cell_type": "code",
   "execution_count": 15,
   "id": "d3a7e13f",
   "metadata": {
    "execution": {
     "iopub.execute_input": "2023-07-17T12:03:22.723588Z",
     "iopub.status.busy": "2023-07-17T12:03:22.723019Z",
     "iopub.status.idle": "2023-07-17T12:03:22.730730Z",
     "shell.execute_reply": "2023-07-17T12:03:22.729764Z"
    },
    "papermill": {
     "duration": 0.017658,
     "end_time": "2023-07-17T12:03:22.732344",
     "exception": false,
     "start_time": "2023-07-17T12:03:22.714686",
     "status": "completed"
    },
    "tags": []
   },
   "outputs": [
    {
     "data": {
      "text/plain": [
       "['Peter Parker is unmasked and no longer able to separate his normal life from the high-stakes of being a super-hero. When he asks for help from Doctor Strange the stakes become even more dangerous, forcing him to discover what it truly means to be Spider-Man.',\n",
       " 'In his second year of fighting crime, Batman uncovers corruption in Gotham City that connects to his own family while facing a serial killer known as the Riddler.',\n",
       " 'Stranded at a rest stop in the mountains during a blizzard, a recovering addict discovers a kidnapped child hidden in a car belonging to one of the people inside the building which sets her on a terrifying struggle to identify who among them is the kidnapper.',\n",
       " \"The tale of an extraordinary family, the Madrigals, who live hidden in the mountains of Colombia, in a magical house, in a vibrant town, in a wondrous, charmed place called an Encanto. The magic of the Encanto has blessed every child in the family with a unique gift from super strength to the power to heal—every child except one, Mirabel. But when she discovers that the magic surrounding the Encanto is in danger, Mirabel decides that she, the only ordinary Madrigal, might just be her exceptional family's last hope.\",\n",
       " \"As a collection of history's worst tyrants and criminal masterminds gather to plot a war to wipe out millions, one man must race against time to stop them.\"]"
      ]
     },
     "execution_count": 15,
     "metadata": {},
     "output_type": "execute_result"
    }
   ],
   "source": [
    "titles=list(movies['Overview'])\n",
    "titles[:5]"
   ]
  },
  {
   "cell_type": "markdown",
   "id": "74f73f16",
   "metadata": {
    "papermill": {
     "duration": 0.006977,
     "end_time": "2023-07-17T12:03:22.746885",
     "exception": false,
     "start_time": "2023-07-17T12:03:22.739908",
     "status": "completed"
    },
    "tags": []
   },
   "source": [
    "# **Embedding**"
   ]
  },
  {
   "cell_type": "code",
   "execution_count": 16,
   "id": "3fdad49b",
   "metadata": {
    "execution": {
     "iopub.execute_input": "2023-07-17T12:03:22.763461Z",
     "iopub.status.busy": "2023-07-17T12:03:22.762796Z",
     "iopub.status.idle": "2023-07-17T12:03:24.973568Z",
     "shell.execute_reply": "2023-07-17T12:03:24.972967Z"
    },
    "papermill": {
     "duration": 2.221155,
     "end_time": "2023-07-17T12:03:24.975257",
     "exception": false,
     "start_time": "2023-07-17T12:03:22.754102",
     "status": "completed"
    },
    "tags": []
   },
   "outputs": [
    {
     "name": "stdout",
     "output_type": "stream",
     "text": [
      "The embedding shape is:  (9827, 512)\n"
     ]
    }
   ],
   "source": [
    "# Generate embeddings for the list of 'titles' using the 'embed' function\n",
    "# The 'embed' function is assumed to be defined earlier and capable of generating embeddings from the given input.\n",
    "embeddings = embed(titles)\n",
    "\n",
    "# Print the shape of the resulting embeddings\n",
    "print('The embedding shape is: ', embeddings.shape)"
   ]
  },
  {
   "cell_type": "markdown",
   "id": "2107e66c",
   "metadata": {
    "papermill": {
     "duration": 0.007085,
     "end_time": "2023-07-17T12:03:24.989720",
     "exception": false,
     "start_time": "2023-07-17T12:03:24.982635",
     "status": "completed"
    },
    "tags": []
   },
   "source": [
    "# **PCA**"
   ]
  },
  {
   "cell_type": "code",
   "execution_count": 17,
   "id": "8f77500f",
   "metadata": {
    "execution": {
     "iopub.execute_input": "2023-07-17T12:03:25.006021Z",
     "iopub.status.busy": "2023-07-17T12:03:25.005694Z",
     "iopub.status.idle": "2023-07-17T12:03:25.478157Z",
     "shell.execute_reply": "2023-07-17T12:03:25.477335Z"
    },
    "papermill": {
     "duration": 0.483916,
     "end_time": "2023-07-17T12:03:25.480877",
     "exception": false,
     "start_time": "2023-07-17T12:03:24.996961",
     "status": "completed"
    },
    "tags": []
   },
   "outputs": [],
   "source": [
    "pca=PCA(n_components=2)\n",
    "emb_2d=pca.fit_transform(embeddings)"
   ]
  },
  {
   "cell_type": "markdown",
   "id": "c7ac153e",
   "metadata": {
    "papermill": {
     "duration": 0.020983,
     "end_time": "2023-07-17T12:03:25.512308",
     "exception": false,
     "start_time": "2023-07-17T12:03:25.491325",
     "status": "completed"
    },
    "tags": []
   },
   "source": [
    "# **Scatter Plot**"
   ]
  },
  {
   "cell_type": "code",
   "execution_count": 18,
   "id": "a8d1ff66",
   "metadata": {
    "execution": {
     "iopub.execute_input": "2023-07-17T12:03:25.556208Z",
     "iopub.status.busy": "2023-07-17T12:03:25.555356Z",
     "iopub.status.idle": "2023-07-17T12:03:25.826158Z",
     "shell.execute_reply": "2023-07-17T12:03:25.825404Z"
    },
    "papermill": {
     "duration": 0.293765,
     "end_time": "2023-07-17T12:03:25.827908",
     "exception": false,
     "start_time": "2023-07-17T12:03:25.534143",
     "status": "completed"
    },
    "tags": []
   },
   "outputs": [
    {
     "data": {
      "image/png": "[encoded data removed]",
      "text/plain": [
       "<Figure size 1100x600 with 1 Axes>"
      ]
     },
     "metadata": {},
     "output_type": "display_data"
    }
   ],
   "source": [
    "plt.figure(figsize=(11,6))\n",
    "plt.title(\"Embedding space\")\n",
    "plt.scatter(emb_2d[:,0],emb_2d[:,1])\n",
    "plt.show()"
   ]
  },
  {
   "cell_type": "markdown",
   "id": "885b96c5",
   "metadata": {
    "papermill": {
     "duration": 0.00836,
     "end_time": "2023-07-17T12:03:25.844684",
     "exception": false,
     "start_time": "2023-07-17T12:03:25.836324",
     "status": "completed"
    },
    "tags": []
   },
   "source": [
    "# **NearestNeighbours**"
   ]
  },
  {
   "cell_type": "code",
   "execution_count": 19,
   "id": "47ea5ee6",
   "metadata": {
    "execution": {
     "iopub.execute_input": "2023-07-17T12:03:25.864337Z",
     "iopub.status.busy": "2023-07-17T12:03:25.863623Z",
     "iopub.status.idle": "2023-07-17T12:03:25.882058Z",
     "shell.execute_reply": "2023-07-17T12:03:25.881206Z"
    },
    "papermill": {
     "duration": 0.030255,
     "end_time": "2023-07-17T12:03:25.884269",
     "exception": false,
     "start_time": "2023-07-17T12:03:25.854014",
     "status": "completed"
    },
    "tags": []
   },
   "outputs": [
    {
     "data": {
      "text/html": [
       "<style>#sk-container-id-1 {color: black;background-color: white;}#sk-container-id-1 pre{padding: 0;}#sk-container-id-1 div.sk-toggleable {background-color: white;}#sk-container-id-1 label.sk-toggleable__label {cursor: pointer;display: block;width: 100%;margin-bottom: 0;padding: 0.3em;box-sizing: border-box;text-align: center;}#sk-container-id-1 label.sk-toggleable__label-arrow:before {content: \"▸\";float: left;margin-right: 0.25em;color: #696969;}#sk-container-id-1 label.sk-toggleable__label-arrow:hover:before {color: black;}#sk-container-id-1 div.sk-estimator:hover label.sk-toggleable__label-arrow:before {color: black;}#sk-container-id-1 div.sk-toggleable__content {max-height: 0;max-width: 0;overflow: hidden;text-align: left;background-color: #f0f8ff;}#sk-container-id-1 div.sk-toggleable__content pre {margin: 0.2em;color: black;border-radius: 0.25em;background-color: #f0f8ff;}#sk-container-id-1 input.sk-toggleable__control:checked~div.sk-toggleable__content {max-height: 200px;max-width: 100%;overflow: auto;}#sk-container-id-1 input.sk-toggleable__control:checked~label.sk-toggleable__label-arrow:before {content: \"▾\";}#sk-container-id-1 div.sk-estimator input.sk-toggleable__control:checked~label.sk-toggleable__label {background-color: #d4ebff;}#sk-container-id-1 div.sk-label input.sk-toggleable__control:checked~label.sk-toggleable__label {background-color: #d4ebff;}#sk-container-id-1 input.sk-hidden--visually {border: 0;clip: rect(1px 1px 1px 1px);clip: rect(1px, 1px, 1px, 1px);height: 1px;margin: -1px;overflow: hidden;padding: 0;position: absolute;width: 1px;}#sk-container-id-1 div.sk-estimator {font-family: monospace;background-color: #f0f8ff;border: 1px dotted black;border-radius: 0.25em;box-sizing: border-box;margin-bottom: 0.5em;}#sk-container-id-1 div.sk-estimator:hover {background-color: #d4ebff;}#sk-container-id-1 div.sk-parallel-item::after {content: \"\";width: 100%;border-bottom: 1px solid gray;flex-grow: 1;}#sk-container-id-1 div.sk-label:hover label.sk-toggleable__label {background-color: #d4ebff;}#sk-container-id-1 div.sk-serial::before {content: \"\";position: absolute;border-left: 1px solid gray;box-sizing: border-box;top: 0;bottom: 0;left: 50%;z-index: 0;}#sk-container-id-1 div.sk-serial {display: flex;flex-direction: column;align-items: center;background-color: white;padding-right: 0.2em;padding-left: 0.2em;position: relative;}#sk-container-id-1 div.sk-item {position: relative;z-index: 1;}#sk-container-id-1 div.sk-parallel {display: flex;align-items: stretch;justify-content: center;background-color: white;position: relative;}#sk-container-id-1 div.sk-item::before, #sk-container-id-1 div.sk-parallel-item::before {content: \"\";position: absolute;border-left: 1px solid gray;box-sizing: border-box;top: 0;bottom: 0;left: 50%;z-index: -1;}#sk-container-id-1 div.sk-parallel-item {display: flex;flex-direction: column;z-index: 1;position: relative;background-color: white;}#sk-container-id-1 div.sk-parallel-item:first-child::after {align-self: flex-end;width: 50%;}#sk-container-id-1 div.sk-parallel-item:last-child::after {align-self: flex-start;width: 50%;}#sk-container-id-1 div.sk-parallel-item:only-child::after {width: 0;}#sk-container-id-1 div.sk-dashed-wrapped {border: 1px dashed gray;margin: 0 0.4em 0.5em 0.4em;box-sizing: border-box;padding-bottom: 0.4em;background-color: white;}#sk-container-id-1 div.sk-label label {font-family: monospace;font-weight: bold;display: inline-block;line-height: 1.2em;}#sk-container-id-1 div.sk-label-container {text-align: center;}#sk-container-id-1 div.sk-container {/* jupyter's `normalize.less` sets `[hidden] { display: none; }` but bootstrap.min.css set `[hidden] { display: none !important; }` so we also need the `!important` here to be able to override the default hidden behavior on the sphinx rendered scikit-learn.org. See: https://github.com/scikit-learn/scikit-learn/issues/21755 */display: inline-block !important;position: relative;}#sk-container-id-1 div.sk-text-repr-fallback {display: none;}</style><div id=\"sk-container-id-1\" class=\"sk-top-container\"><div class=\"sk-text-repr-fallback\"><pre>NearestNeighbors(n_neighbors=10)</pre><b>In a Jupyter environment, please rerun this cell to show the HTML representation or trust the notebook. <br />On GitHub, the HTML representation is unable to render, please try loading this page with nbviewer.org.</b></div><div class=\"sk-container\" hidden><div class=\"sk-item\"><div class=\"sk-estimator sk-toggleable\"><input class=\"sk-toggleable__control sk-hidden--visually\" id=\"sk-estimator-id-1\" type=\"checkbox\" checked><label for=\"sk-estimator-id-1\" class=\"sk-toggleable__label sk-toggleable__label-arrow\">NearestNeighbors</label><div class=\"sk-toggleable__content\"><pre>NearestNeighbors(n_neighbors=10)</pre></div></div></div></div></div>"
      ],
      "text/plain": [
       "NearestNeighbors(n_neighbors=10)"
      ]
     },
     "execution_count": 19,
     "metadata": {},
     "output_type": "execute_result"
    }
   ],
   "source": [
    "from sklearn.neighbors import NearestNeighbors\n",
    "\n",
    "# Initialize the NearestNeighbors model with 'n_neighbors' set to 10\n",
    "# The model will find the 10 nearest neighbors for each data point in the 'embeddings' dataset.\n",
    "nn = NearestNeighbors(n_neighbors=10)\n",
    "\n",
    "# Fit the NearestNeighbors model with the 'embeddings' dataset\n",
    "# The model will learn the distances and indices of the 10 nearest neighbors for each data point.\n",
    "nn.fit(embeddings)\n"
   ]
  },
  {
   "cell_type": "code",
   "execution_count": 20,
   "id": "b5bf6a36",
   "metadata": {
    "execution": {
     "iopub.execute_input": "2023-07-17T12:03:25.903615Z",
     "iopub.status.busy": "2023-07-17T12:03:25.902690Z",
     "iopub.status.idle": "2023-07-17T12:03:25.909056Z",
     "shell.execute_reply": "2023-07-17T12:03:25.907873Z"
    },
    "papermill": {
     "duration": 0.018409,
     "end_time": "2023-07-17T12:03:25.911317",
     "exception": false,
     "start_time": "2023-07-17T12:03:25.892908",
     "status": "completed"
    },
    "tags": []
   },
   "outputs": [],
   "source": [
    "# Define a function named 'recommend' that takes a 'text' as input\n",
    "def recommend(text):\n",
    "    # Generate the embedding for the input 'text' using the 'embed' function\n",
    "    emb = embed([text])\n",
    "\n",
    "    # Find the 10 nearest neighbors based on the computed embeddings using the NearestNeighbors model 'nn'\n",
    "    neighbors = nn.kneighbors(emb, return_distance=False)[0]\n",
    "\n",
    "    # Print the titles of the recommended movies based on the nearest neighbors\n",
    "    for i in neighbors:\n",
    "        print(movies['Title'].iloc[i])\n"
   ]
  },
  {
   "cell_type": "markdown",
   "id": "118c7699",
   "metadata": {
    "papermill": {
     "duration": 0.008244,
     "end_time": "2023-07-17T12:03:25.928635",
     "exception": false,
     "start_time": "2023-07-17T12:03:25.920391",
     "status": "completed"
    },
    "tags": []
   },
   "source": [
    "# **Predictions**"
   ]
  },
  {
   "cell_type": "code",
   "execution_count": 21,
   "id": "3440264d",
   "metadata": {
    "execution": {
     "iopub.execute_input": "2023-07-17T12:03:25.948065Z",
     "iopub.status.busy": "2023-07-17T12:03:25.947478Z",
     "iopub.status.idle": "2023-07-17T12:03:26.008650Z",
     "shell.execute_reply": "2023-07-17T12:03:26.007881Z"
    },
    "papermill": {
     "duration": 0.073018,
     "end_time": "2023-07-17T12:03:26.010221",
     "exception": false,
     "start_time": "2023-07-17T12:03:25.937203",
     "status": "completed"
    },
    "tags": []
   },
   "outputs": [
    {
     "name": "stdout",
     "output_type": "stream",
     "text": [
      "Recommended Movies:\n",
      "Team Thor: Part 1\n",
      "Iron Man & Captain America: Heroes United\n",
      "Team Thor: Part 2\n",
      "Captain America: Civil War\n",
      "Captain America: The Winter Soldier\n",
      "Spider-Man: Homecoming\n",
      "Ant-Man and the Wasp: Quantumania\n",
      "The Marvels\n",
      "Marvel Studios: Assembling a Universe\n",
      "Thor: Love and Thunder\n"
     ]
    }
   ],
   "source": [
    "print(\"Recommended Movies:\")\n",
    "recommend('Captain America: Civil War')"
   ]
  },
  {
   "cell_type": "code",
   "execution_count": 22,
   "id": "18ebc194",
   "metadata": {
    "execution": {
     "iopub.execute_input": "2023-07-17T12:03:26.029164Z",
     "iopub.status.busy": "2023-07-17T12:03:26.028561Z",
     "iopub.status.idle": "2023-07-17T12:03:26.044692Z",
     "shell.execute_reply": "2023-07-17T12:03:26.043936Z"
    },
    "papermill": {
     "duration": 0.02778,
     "end_time": "2023-07-17T12:03:26.046377",
     "exception": false,
     "start_time": "2023-07-17T12:03:26.018597",
     "status": "completed"
    },
    "tags": []
   },
   "outputs": [
    {
     "name": "stdout",
     "output_type": "stream",
     "text": [
      "Recommended Movies:\n",
      "LEGO DC Comics Super Heroes Batman Be-Leaguered\n",
      "Lego DC Batman: Family Matters\n",
      "Batman & Robin\n",
      "Batman Tech\n",
      "Batman: Bad Blood\n",
      "Batman: The Dark Knight Returns, Part 1\n",
      "The Batman vs. Dracula\n",
      "Batman: Return of the Caped Crusaders\n",
      "Batman: Mystery of the Batwoman\n",
      "Batman: The Dark Knight Returns, Part 2\n"
     ]
    }
   ],
   "source": [
    "print(\"Recommended Movies:\")\n",
    "recommend('Batman')"
   ]
  },
  {
   "cell_type": "markdown",
   "id": "5a665733",
   "metadata": {
    "papermill": {
     "duration": 0.008427,
     "end_time": "2023-07-17T12:03:26.063663",
     "exception": false,
     "start_time": "2023-07-17T12:03:26.055236",
     "status": "completed"
    },
    "tags": []
   },
   "source": [
    "# **Overview what we have done**\n",
    "1. We start by importing the required libraries, including pandas, numpy, tensorflow, tensorflow_hub, and sklearn.\n",
    "2. We define functions to load the pre-trained model, generate embeddings for texts, recommend movies based on the input text, and load movie data from a CSV file.\n",
    "3. In the main() function, we load the movie data, select relevant columns, load the pre-trained model, and generate embeddings for movie overviews using the model.\n",
    "4. We initialize the NearestNeighbors model, fit it with the embeddings, and get user input for movie recommendation.\n",
    "5. The recommend_movies function then recommends movies based on the user input using the NearestNeighbors model.\n",
    "6. The program is executed by calling the main() function."
   ]
  }
 ],
 "metadata": {
  "kernelspec": {
   "display_name": "Python 3",
   "language": "python",
   "name": "python3"
  },
  "language_info": {
   "codemirror_mode": {
    "name": "ipython",
    "version": 3
   },
   "file_extension": ".py",
   "mimetype": "text/x-python",
   "name": "python",
   "nbconvert_exporter": "python",
   "pygments_lexer": "ipython3",
   "version": "3.10.12"
  },
  "papermill": {
   "default_parameters": {},
   "duration": 54.351776,
   "end_time": "2023-07-17T12:03:29.093506",
   "environment_variables": {},
   "exception": null,
   "input_path": "__notebook__.ipynb",
   "output_path": "__notebook__.ipynb",
   "parameters": {},
   "start_time": "2023-07-17T12:02:34.741730",
   "version": "2.4.0"
  }
 },
 "nbformat": 4,
 "nbformat_minor": 5
}
